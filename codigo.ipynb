{
 "cells": [
  {
   "cell_type": "code",
   "execution_count": null,
   "metadata": {},
   "outputs": [],
   "source": [
    "import numpy as np\n",
    "from math import pi, sin, cos, sqrt\n",
    "import matplotlib.pyplot as plt\n",
    "\n",
    "angulo = np.arange(0, pi + 0.01, 0.01)\n",
    "\n",
    "def reacao(theta, m, g, r_barra, Ig):\n",
    "    parentesis1 = -2 * sin(theta) + cos(theta)\n",
    "    parcela1 = (2 * m * r_barra * parentesis1) / (Ig + m * r_barra ** 2)\n",
    "    parentesis2 = 3 * cos(theta) ** 2 + 1\n",
    "    parcela2 = ((m * g * r_barra ** 2) / (Ig + m * r_barra ** 2)) ** 2 * parentesis2\n",
    "    Força = m * g * sqrt(parcela1 + 1 + parcela2)\n",
    "    return Força\n",
    "\n",
    "m=42.86399\n",
    "g=8.91\n",
    "r_barra =0.303328\n",
    "Ig=1.36114\n",
    "\n",
    "resultados = []\n",
    "\n",
    "for theta in angulo:\n",
    "    forca = reacao(theta, m, g, r_barra, Ig)\n",
    "    resultados.append(forca)\n",
    "\n",
    "\n",
    "plt.plot(angulo,resultados )  \n",
    "plt.xlabel('theta')\n",
    "plt.ylabel(\"força\")\n",
    "plt.title('força x theta')\n",
    "plt.grid()\n",
    "plt.show()"
   ]
  }
 ],
 "metadata": {
  "language_info": {
   "name": "python"
  },
  "orig_nbformat": 4
 },
 "nbformat": 4,
 "nbformat_minor": 2
}
