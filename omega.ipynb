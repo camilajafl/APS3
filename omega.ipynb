{
 "cells": [
  {
   "cell_type": "code",
   "execution_count": 65,
   "metadata": {},
   "outputs": [],
   "source": [
    "import numpy as np\n",
    "from math import pi, sin, cos, sqrt\n",
    "import matplotlib.pyplot as plt\n"
   ]
  },
  {
   "cell_type": "code",
   "execution_count": 66,
   "metadata": {},
   "outputs": [],
   "source": [
    "m=42.86399\n",
    "g=9.81\n",
    "r_barra =0.303328\n",
    "Ig=1.43314"
   ]
  },
  {
   "cell_type": "code",
   "execution_count": 67,
   "metadata": {},
   "outputs": [],
   "source": [
    "def alfa(theta):\n",
    "    cima = -m*g*r_barra*cos(theta)\n",
    "    baixo = (m*r_barra**2) + Ig\n",
    "    alfa = cima/baixo\n",
    "    return alfa"
   ]
  },
  {
   "cell_type": "code",
   "execution_count": 68,
   "metadata": {},
   "outputs": [],
   "source": [
    "def velocidade_angular_quadrado(theta):\n",
    "    cima = -m*g*r_barra*sin(theta)\n",
    "    baixo = (m*r_barra**2) + Ig\n",
    "    wv_2 = 2*cima/baixo\n",
    "    return wv_2"
   ]
  },
  {
   "cell_type": "code",
   "execution_count": 69,
   "metadata": {},
   "outputs": [],
   "source": [
    "def forças_A(theta):\n",
    "\n",
    "    wv_2 = velocidade_angular_quadrado(theta)\n",
    "    Alfa = alfa(theta)\n",
    "\n",
    "    Fn = -m*r_barra*wv_2 + m*g*sin(theta)\n",
    "    Ft = m*r_barra*Alfa + m*g*cos(theta)\n",
    "\n",
    "    Fa = sqrt(Fn**2 + Ft**2)\n",
    "\n",
    "    return Fa"
   ]
  },
  {
   "cell_type": "code",
   "execution_count": 70,
   "metadata": {},
   "outputs": [],
   "source": [
    "angulo = np.arange(0, pi + 0.01, 0.01)\n",
    "\n",
    "resultados = []\n",
    "\n",
    "for theta in angulo:\n",
    "    forca = forças_A(theta)\n",
    "    resultados.append(forca)"
   ]
  },
  {
   "cell_type": "code",
   "execution_count": 71,
   "metadata": {},
   "outputs": [
    {
     "data": {
      "image/png": "[encoded data removed]",
      "text/plain": [
       "<Figure size 432x288 with 1 Axes>"
      ]
     },
     "metadata": {
      "needs_background": "light"
     },
     "output_type": "display_data"
    }
   ],
   "source": [
    "plt.plot(angulo,resultados )  \n",
    "plt.xlabel('theta')\n",
    "plt.ylabel(\"força\")\n",
    "plt.title('força x theta')\n",
    "plt.grid()\n",
    "plt.show()\n"
   ]
  },
  {
   "cell_type": "code",
   "execution_count": 72,
   "metadata": {},
   "outputs": [
    {
     "name": "stdout",
     "output_type": "stream",
     "text": [
      "1037.334686226375\n"
     ]
    }
   ],
   "source": [
    "print(max(resultados))"
   ]
  },
  {
   "cell_type": "code",
   "execution_count": null,
   "metadata": {},
   "outputs": [],
   "source": [
    "#implementar a função da aceleração normal\n",
    "def alfa(theta):\n",
    "    cima = -m*g*r_barra*cos(theta)\n",
    "    baixo = (m*r_barra**2) + Ig\n",
    "    alfa = cima/baixo\n",
    "    return alfa\n",
    "\n",
    "#implementar a função velociadade angular\n",
    "def velocidade_angular_quadrado(theta):\n",
    "    cima = -m*g*r_barra*sin(theta)\n",
    "    baixo = (m*r_barra**2) + Ig\n",
    "    wv_2 = 2*cima/baixo\n",
    "    return wv_2\n",
    "\n",
    "#implementar as forças de apoio e a resultante\n",
    "def forças_A(theta):\n",
    "    #chamar as funções velocidade e aceleração\n",
    "    wv_2 = velocidade_angular_quadrado(theta)\n",
    "    Alfa = alfa(theta)\n",
    "    #forças de apoio normal e tangencial\n",
    "    Fn = -m*r_barra*wv_2 + m*g*sin(theta)\n",
    "    Ft = m*r_barra*Alfa + m*g*cos(theta)\n",
    "    #calculo da resultante\n",
    "    Fa = sqrt(Fn**2 + Ft**2)\n",
    "    return Fa\n",
    "\n",
    "#definição dos ângulos utilizados \n",
    "angulo = np.arange(0, pi + 0.01, 0.01)\n",
    "#cálculo da resultante em função do ângulo\n",
    "resultados = []\n",
    "for theta in angulo:\n",
    "    forca = forças_A(theta)\n",
    "    resultados.append(forca)\n",
    "\n",
    "#código para implementar a força x ângulo \n",
    "plt.plot(angulo,resultados )  \n",
    "plt.xlabel('theta')\n",
    "plt.ylabel(\"força\")\n",
    "plt.title('força x theta')\n",
    "plt.grid()\n",
    "plt.show()\n"
   ]
  }
 ],
 "metadata": {
  "kernelspec": {
   "display_name": "base",
   "language": "python",
   "name": "python3"
  },
  "language_info": {
   "codemirror_mode": {
    "name": "ipython",
    "version": 3
   },
   "file_extension": ".py",
   "mimetype": "text/x-python",
   "name": "python",
   "nbconvert_exporter": "python",
   "pygments_lexer": "ipython3",
   "version": "3.9.12"
  },
  "orig_nbformat": 4
 },
 "nbformat": 4,
 "nbformat_minor": 2
}
